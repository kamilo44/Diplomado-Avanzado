{
 "cells": [
  {
   "cell_type": "markdown",
   "id": "9a29c6b0",
   "metadata": {},
   "source": [
    "# <span style=\"color:#F72585\">Bienvenido(a)</span>"
   ]
  },
  {
   "cell_type": "markdown",
   "id": "89d9806f",
   "metadata": {},
   "source": [
    "Este es un libro vivo, lo que significa que puede ejecutar el código presente en él. \n",
    "\n",
    "A continuación se muestran las funcionalidades que podemos encontrae en este libro."
   ]
  },
  {
   "cell_type": "markdown",
   "id": "7dcf67e8",
   "metadata": {},
   "source": [
    "## <span style=\"color:#4361EE\">Conociendo el libro</span>\n",
    "\n",
    "Ponemos ver que el libro se divide en tres secciones:\n",
    "\n",
    "1. Indice del libro\n",
    "2. Página de libro\n",
    "3. Contenido de la página"
   ]
  },
  {
   "cell_type": "markdown",
   "id": "aa838b10",
   "metadata": {},
   "source": [
    "![partes_de_la_pagina](partes_de_la_pagina.png)"
   ]
  },
  {
   "cell_type": "markdown",
   "id": "19d683f5",
   "metadata": {},
   "source": [
    "## En la sección ***1*** se encuentran:\n",
    "\n",
    "1. Logo de Aprendizaje profundo\n",
    "2. Cuadro de busqueda\n",
    "3. Indice del libro"
   ]
  },
  {
   "cell_type": "markdown",
   "id": "727d946e",
   "metadata": {},
   "source": [
    "1. Podemos dar clic en el **logo** de aprendizaje profundo para volver al inicio."
   ]
  },
  {
   "cell_type": "markdown",
   "id": "280314f5",
   "metadata": {},
   "source": [
    "![logo](Imagenes/logo.png)"
   ]
  },
  {
   "cell_type": "markdown",
   "id": "c69ff9c4",
   "metadata": {},
   "source": [
    "2. En el **cuadro de busqueda** podemos buscar palabras dentro del libro."
   ]
  },
  {
   "cell_type": "markdown",
   "id": "467564c0",
   "metadata": {},
   "source": [
    "![busqueda](Imagenes/busqueda.png)"
   ]
  },
  {
   "cell_type": "markdown",
   "id": "213c53e5",
   "metadata": {},
   "source": [
    "3. En el **índice del libro** podemos dar clic a cualquiera de las secciones yno llevará automáticamete a esta."
   ]
  },
  {
   "cell_type": "markdown",
   "id": "d68a038d",
   "metadata": {},
   "source": [
    "![contenido_pagina](Imagenes/contenido_pagina.png)"
   ]
  },
  {
   "cell_type": "markdown",
   "id": "1e031bff",
   "metadata": {},
   "source": [
    "---\n",
    "\n",
    "## En la sección ***2*** se encuentran:\n",
    "\n",
    "1. Barra de opciones\n",
    "2. Página del libro"
   ]
  },
  {
   "cell_type": "markdown",
   "id": "3647c74d",
   "metadata": {},
   "source": [
    "### En la **barra de opciones** podemos encontrar cuatro íconos:"
   ]
  },
  {
   "cell_type": "markdown",
   "id": "e9743c5f",
   "metadata": {},
   "source": [
    "![iconos barra](Imagenes/iconos_barra.png)"
   ]
  },
  {
   "cell_type": "markdown",
   "id": "bf628a1c",
   "metadata": {},
   "source": [
    "* Aquí podemos poner el cursor sobre el primer ícono y se nos desplegaran tres opciones:"
   ]
  },
  {
   "cell_type": "markdown",
   "id": "a04f4235",
   "metadata": {},
   "source": [
    "![boton_cohete](Imagenes/boton_cohete.png)"
   ]
  },
  {
   "cell_type": "markdown",
   "id": "d62f9501",
   "metadata": {},
   "source": [
    "Cada una de estas opciones nos permiten poner el libro de forma interactiva, haciendo posible editar y ejecutar el código del presente en el libro."
   ]
  },
  {
   "cell_type": "markdown",
   "id": "25295185",
   "metadata": {},
   "source": [
    "**Nota:** Es importante utilizarlo para algunas librerias que requieren alguno de las tres opciones en especifico, las cuales se indicarán en el correspondiente **página del libro** que se requiera."
   ]
  },
  {
   "cell_type": "markdown",
   "id": "90c4d496",
   "metadata": {},
   "source": [
    "* Al dar clic en el segundo ícono nos permite poner en modo pantalla completa."
   ]
  },
  {
   "cell_type": "markdown",
   "id": "c5aad78a",
   "metadata": {},
   "source": [
    "![full_screen](Imagenes/full_screen.png)"
   ]
  },
  {
   "cell_type": "markdown",
   "id": "f32769db",
   "metadata": {},
   "source": [
    "* El tercer ícono nos permite acceder a alguna las opciones en Github."
   ]
  },
  {
   "cell_type": "markdown",
   "id": "5e396b0e",
   "metadata": {},
   "source": [
    "![boton_github](Imagenes/boton_github.png)"
   ]
  },
  {
   "cell_type": "markdown",
   "id": "6adb5a67",
   "metadata": {},
   "source": [
    "* Si seleccionamos la opción ***repository*** esta nos llevara al repositorio de **Github** donde se encuentra alojado el presente"
   ]
  },
  {
   "cell_type": "markdown",
   "id": "a0b928e1",
   "metadata": {},
   "source": [
    "![repositorio_gitgub](Imagenes/repositorio_github.png)"
   ]
  },
  {
   "cell_type": "markdown",
   "id": "3d78220c",
   "metadata": {},
   "source": [
    "Se tiene además la opción de reportar errores dando clic en ***open issue***. Esto lo podemos hacer haciendo un *fork* del repositorio."
   ]
  },
  {
   "cell_type": "markdown",
   "id": "aac6dcbe",
   "metadata": {},
   "source": [
    "* Para poder descargar el libro damos clic en el cuarto ícono, este nos permitira bajarlo como *cuaderno de jupyter*, así como *PDF*."
   ]
  },
  {
   "cell_type": "markdown",
   "id": "a7805b65",
   "metadata": {},
   "source": [
    "![boton_descargar](Imagenes/boton_descargar.png)"
   ]
  },
  {
   "cell_type": "markdown",
   "id": "09d2654d",
   "metadata": {},
   "source": [
    "### En la *página del libro* podemos encontrar el el contenido de nuestro libro como tal."
   ]
  },
  {
   "cell_type": "markdown",
   "id": "4c712683",
   "metadata": {},
   "source": [
    "Aquí podemos encontrarnos con diferentes *(opciones)*"
   ]
  },
  {
   "cell_type": "markdown",
   "id": "a40e401a",
   "metadata": {},
   "source": [
    "#### Hacer notas y resaltar texto"
   ]
  },
  {
   "cell_type": "markdown",
   "id": "21c00441",
   "metadata": {},
   "source": [
    "Podemos añadir notas y resaltar el texto dentro de nuestro libro seleccionando el texto que deseamos resaltar o sobre el cua deseamos hacer la nota y elegimos la opción correspondiente."
   ]
  },
  {
   "cell_type": "markdown",
   "id": "d01cd38a",
   "metadata": {},
   "source": [
    "![resaltar_texto](Imagenes/resaltar_texto.png)"
   ]
  },
  {
   "cell_type": "markdown",
   "id": "5fe68d1a",
   "metadata": {},
   "source": [
    "**Nota:** Para poder realizar anotaciones y comentarios, es necesario que cree una cuenta en Hypothesis. Puede realizarlo desde este [link](https://hypothes.is/signup). "
   ]
  },
  {
   "cell_type": "markdown",
   "id": "d8c99163",
   "metadata": {},
   "source": [
    "#### Cuadros"
   ]
  },
  {
   "cell_type": "markdown",
   "id": "866f7228",
   "metadata": {},
   "source": [
    "* Tenemos *nota* la cual nos acalara conceptos."
   ]
  },
  {
   "cell_type": "markdown",
   "id": "4d2240cc",
   "metadata": {},
   "source": [
    "<!--\n",
    "```{admonition} Nota\n",
    "Se observa que el espacio muestral es un conjunto.\n",
    "```\n",
    "-->\n",
    "![nota](Imagenes/nota.png)\n"
   ]
  },
  {
   "cell_type": "markdown",
   "id": "fe5b0d32",
   "metadata": {},
   "source": [
    "* Tenemos *importante* la cual nos indica algunos apartes relevantes."
   ]
  },
  {
   "cell_type": "markdown",
   "id": "3207660c",
   "metadata": {},
   "source": [
    "<!--\n",
    ":::{admonition} Importante\n",
    ":class: tip\n",
    "Esta es una regla general, que se enuncia así: \n",
    "Si $A$ y $B$ son eventos del espacio muestral $\\mathcal{M}$, entonces se define $\\text{Prob}[A|B]$ como\n",
    "\n",
    "$$\n",
    "\\text{Prob}[A|B] = \\frac{\\text{Prob}[A\\cap B]}{\\text{Prob}[B]}\n",
    "$$\n",
    ":::\n",
    "-->\n",
    "![importante](Imagenes/importante.png)"
   ]
  },
  {
   "cell_type": "markdown",
   "id": "165aa7a1",
   "metadata": {},
   "source": [
    "* Nos señalará además *cuidado*, para resaltar cosas que debemosestar muy pendiente."
   ]
  },
  {
   "cell_type": "markdown",
   "id": "3da237c4",
   "metadata": {},
   "source": [
    "![cuidado](Imagenes/cuidado.png)"
   ]
  },
  {
   "cell_type": "markdown",
   "id": "30b410c3",
   "metadata": {},
   "source": [
    "#### Texto especial"
   ]
  },
  {
   "cell_type": "markdown",
   "id": "567413b0",
   "metadata": {},
   "source": [
    "Dentro del texto del libro nos encintaremos con textos de color que nos indicaran algunas funcionalidades especiales."
   ]
  },
  {
   "cell_type": "markdown",
   "id": "da3b10df",
   "metadata": {},
   "source": [
    "* Texto azul: nos indican enlace en los cuales podemos hacer clic y nos llevarán a páginas externas."
   ]
  },
  {
   "cell_type": "markdown",
   "id": "1eabb2bc",
   "metadata": {},
   "source": [
    "![texto_azul](Imagenes/texto_azul.png)"
   ]
  },
  {
   "cell_type": "markdown",
   "id": "6726551c",
   "metadata": {},
   "source": [
    "* Texto magenta: nos indica **(indicar la funció)**"
   ]
  },
  {
   "cell_type": "markdown",
   "id": "a3f24325",
   "metadata": {},
   "source": [
    "![texto_magenta](Imagenes/texto_magenta.png)"
   ]
  },
  {
   "cell_type": "markdown",
   "id": "793bea31",
   "metadata": {},
   "source": [
    "* Texto verde: nos indica **(indicar la funció)**"
   ]
  },
  {
   "cell_type": "markdown",
   "id": "b4587919",
   "metadata": {},
   "source": [
    "![texto_verde](Imagenes/texto_verde.png)"
   ]
  },
  {
   "cell_type": "markdown",
   "id": "c4c3a541",
   "metadata": {},
   "source": [
    "#### Código"
   ]
  },
  {
   "cell_type": "markdown",
   "id": "52973c39",
   "metadata": {},
   "source": [
    "También encontraremos celdas donde podremos visualizar código en python y el resultado de la ejecución de este."
   ]
  },
  {
   "cell_type": "code",
   "execution_count": 1,
   "id": "8342da12",
   "metadata": {},
   "outputs": [
    {
     "name": "stdout",
     "output_type": "stream",
     "text": [
      "Hello friend. Hello friend?\n"
     ]
    }
   ],
   "source": [
    "print(\"Hello friend. Hello friend?\")"
   ]
  },
  {
   "cell_type": "markdown",
   "id": "fe93f342",
   "metadata": {},
   "source": [
    "Podemos copiar el código desplazandonos con el cursor al final de la celda de código y dando clic al icono que aparece allí."
   ]
  },
  {
   "cell_type": "markdown",
   "id": "096a3bc4",
   "metadata": {},
   "source": [
    "![copiar_codigo](Imagenes/opcion_copiar_codigo.png)"
   ]
  },
  {
   "cell_type": "markdown",
   "id": "597225f8",
   "metadata": {},
   "source": [
    "Tenemos tambien algunas celdas que contienen código oculto."
   ]
  },
  {
   "cell_type": "code",
   "execution_count": null,
   "id": "b8de11db",
   "metadata": {},
   "outputs": [],
   "source": [
    "\n",
    " !pip install seaborn"
   ]
  },
  {
   "cell_type": "markdown",
   "id": "025de533",
   "metadata": {},
   "source": [
    "Podremos visualizar este código haciendo clic en el icono que aparece al final de la celda."
   ]
  },
  {
   "cell_type": "markdown",
   "id": "e77b59d2",
   "metadata": {},
   "source": [
    "![clic_para_ver](Imagenes/clic_para_ver.png)"
   ]
  },
  {
   "cell_type": "markdown",
   "id": "549cdaea",
   "metadata": {},
   "source": [
    "#### Página anterior y siguiente"
   ]
  },
  {
   "cell_type": "markdown",
   "id": "ae8d44ee",
   "metadata": {},
   "source": [
    "Al final de cada página encontramos la opción para ir a la página anterior del libro como a la siguiente página, respectivamente."
   ]
  },
  {
   "cell_type": "markdown",
   "id": "49cc7b49",
   "metadata": {},
   "source": [
    "![cambiar_pagina](Imagenes/cambiar_pagina.png)"
   ]
  },
  {
   "cell_type": "markdown",
   "id": "77d312ec",
   "metadata": {},
   "source": [
    "## En la sección ***3*** se encuentran:\n",
    "\n",
    "1. Tabla de contenido\n",
    "2. Textos resaltados\n",
    "3. Notas"
   ]
  },
  {
   "cell_type": "markdown",
   "id": "692acb59",
   "metadata": {},
   "source": [
    "* En la **tabla de contenido** encontramos cada uno de los temas de la hoja en la que nos encontramos, así comocada uno de sus respectivos subtemas."
   ]
  },
  {
   "cell_type": "markdown",
   "id": "c2a0d0c9",
   "metadata": {},
   "source": [
    "![tabla_de_contenido_pagina](Imagenes/tabla_contenido_pagina.png)"
   ]
  },
  {
   "cell_type": "markdown",
   "id": "c1ab9056",
   "metadata": {},
   "source": [
    "* También encontramos dos íconos que nos mostrarán el texto que hemos resaltado y las notas que hemos realizado, respectivamente."
   ]
  },
  {
   "cell_type": "markdown",
   "id": "9d0ba7b8",
   "metadata": {},
   "source": [
    "![boton_notas](Imagenes/boton_notas.png)"
   ]
  },
  {
   "cell_type": "markdown",
   "id": "40a8dda5",
   "metadata": {},
   "source": [
    "![login_hypothesis](Imagenes/login_hypothesis.png)"
   ]
  }
 ],
 "metadata": {
  "kernelspec": {
   "display_name": "Python 3 (ipykernel)",
   "language": "python",
   "name": "python3"
  },
  "language_info": {
   "codemirror_mode": {
    "name": "ipython",
    "version": 3
   },
   "file_extension": ".py",
   "mimetype": "text/x-python",
   "name": "python",
   "nbconvert_exporter": "python",
   "pygments_lexer": "ipython3",
   "version": "3.8.8"
  }
 },
 "nbformat": 4,
 "nbformat_minor": 5
}
