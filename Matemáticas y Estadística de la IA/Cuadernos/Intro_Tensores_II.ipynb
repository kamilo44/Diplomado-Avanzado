{
 "cells": [
  {
   "cell_type": "markdown",
   "metadata": {},
   "source": [
    "<figure>\n",
    "<img src=\"../Imagenes/logo-final-ap.png\"  width=\"80\" height=\"80\" align=\"left\"/> \n",
    "</figure>\n",
    "\n",
    "# <span style=\"color:blue\"><left>Aprendizaje Profundo</left></span>"
   ]
  },
  {
   "cell_type": "markdown",
   "metadata": {},
   "source": [
    "# <span style=\"color:#F72585\">Tensores</span>"
   ]
  },
  {
   "cell_type": "markdown",
   "metadata": {},
   "source": [
    "<center>Introducción</center>"
   ]
  },
  {
   "cell_type": "markdown",
   "metadata": {},
   "source": [
    "![Producto Tensorial](../Imagenes/producto_tensorial.png)\n",
    "\n",
    "Fuente: Alvaro Montenegro"
   ]
  },
  {
   "cell_type": "markdown",
   "metadata": {},
   "source": [
    "## <span style=\"color:#4361EE\">Referencias</span>"
   ]
  },
  {
   "cell_type": "markdown",
   "metadata": {},
   "source": [
    "1. [Alvaro Montenegro y Daniel Montenegro, Inteligencia Artificial y Aprendizaje Profundo, 2021](https://github.com/AprendizajeProfundo/Diplomado)\n",
    "1. [Alvaro Montenegro, Daniel Montenegro y Oleg Jarma, Inteligencia Artificial y Aprendizaje Profundo Avanzado, 2022](https://github.com/AprendizajeProfundo/Diplomado-Avanzado)"
   ]
  },
  {
   "cell_type": "markdown",
   "metadata": {},
   "source": [
    "## <span style=\"color:#4361EE\">Introducción</span>"
   ]
  },
  {
   "cell_type": "markdown",
   "metadata": {},
   "source": [
    "En esta lección aprenderemos los conceptos básicos de tensores y como los usamos para manipular imágenes usando tensores."
   ]
  },
  {
   "cell_type": "markdown",
   "metadata": {},
   "source": [
    "## <span style=\"color:##4361EE\">Tensor</span>"
   ]
  },
  {
   "cell_type": "markdown",
   "metadata": {},
   "source": [
    "Un tensor es un concepto matemático que generaliza los conceptos de escalares, vectores y matrices."
   ]
  },
  {
   "cell_type": "markdown",
   "metadata": {},
   "source": [
    "![Tensores](../Imagenes/tensores.png)\n",
    "\n",
    "Fuente: Alvaro Montenegro"
   ]
  },
  {
   "cell_type": "markdown",
   "metadata": {},
   "source": [
    "En términos muy simples, un tensor es un objeto dinámico (*matemáticamente diríamos que es una función entre espacios vectoriales*) que vive dentro de una estructura. \n",
    "\n",
    "Pero no vamos a hacer un tratado matemático aquí. \n",
    "\n",
    "Lo importante en esta clase es entender que en realidad, escalares, vectores, matrices pueden verse como tensores fijos y eso será suficiente para lo que sigue."
   ]
  },
  {
   "cell_type": "markdown",
   "metadata": {},
   "source": [
    "## <span style=\"color:#4361EE\">Rango</span>"
   ]
  },
  {
   "cell_type": "markdown",
   "metadata": {},
   "source": [
    "Diremos que los escalares tienen rango (*shape*) 0, los vectores tiene rango 1, las matrices rango 2 y el tensor de la derecha rango 3. \n",
    "\n",
    "El rango corresponde al número de índices que se requiere para identificar de manera única a cada elemento del tensor.\n",
    "\n",
    "Observe que por ejemplo, en el último tensor, requiere (fila, columna, cajón). \n",
    "\n",
    "También podría ser (cajón, fila, columna)."
   ]
  },
  {
   "cell_type": "markdown",
   "metadata": {},
   "source": [
    "## <span style=\"color:#4361EE\">Redes Neuronales</span>"
   ]
  },
  {
   "cell_type": "markdown",
   "metadata": {},
   "source": [
    "La siguiente imagen muestra el estado en un instante de una una parte oculta de una red  neuronal profunda."
   ]
  },
  {
   "cell_type": "markdown",
   "metadata": {},
   "source": [
    "![Fragmento red neuronal](../Imagenes/fragmento_red.png)\n",
    "\n",
    "Fuente: Alvaro Montenegro\n"
   ]
  },
  {
   "cell_type": "markdown",
   "metadata": {},
   "source": [
    "El proceso puede modelarse en forma simplificada usando matrices y vectores como se ve a continuación."
   ]
  },
  {
   "cell_type": "markdown",
   "metadata": {},
   "source": [
    "$$\n",
    "W_{12}L_1 = L2 \\to \\begin{pmatrix} -1 & 0.4 & 1.5\\\\ 0.8 & 0.5 & 0.75 \\\\ 0.2 & -0.3  & 1\\\\ \\end{pmatrix}\\begin{pmatrix} 2.5\\\\ 4  \\\\ 1.2 \\end{pmatrix} = \\begin{pmatrix} 0.9\\\\ 4.9 \\\\ 0.5 \\end{pmatrix}\n",
    "$$"
   ]
  },
  {
   "cell_type": "markdown",
   "metadata": {},
   "source": [
    "Observe por ejemplo que $$-1\\times 2.5 + 0.4\\times 4  + 1.5\\times 1.2 = 0.9$$"
   ]
  },
  {
   "cell_type": "markdown",
   "metadata": {},
   "source": [
    "En la fase de entrenamiento de la red neuronal, los pesos de la matriz se van modificando hasta que se encuentra un óptimo local. Este proceso ocurre en toda la estructura de la red.\n",
    "\n",
    "Por lo que no parece extraño que las GPU y las  TPU pasen todo el tiempo haciendo operaciones de este tipo, que al final se reduce a sumas y multiplicaciones.\n",
    "\n",
    "Por otro lado, lo que ocurre es que los objetos que se procesan no necesariamente son vectores como en el ejemplo, y esto lleva a la necesidad de generalizar los conceptos.\n"
   ]
  },
  {
   "cell_type": "markdown",
   "metadata": {},
   "source": [
    "## <span style=\"color:#4361EE\">Producto tensorial</span>"
   ]
  },
  {
   "cell_type": "markdown",
   "metadata": {},
   "source": [
    "La operación más ejecutada en aprendizaje profundo es el producto tensorial.\n",
    "\n",
    "Vamos a suponer que cada elemento en los tensores de rango 3 se indexan mediante coordenadas (fila, columna, profundidad) y que los tensores de rango 2 se indexan como (fila, columna).\n",
    "\n",
    "La siguiente imagen ilustra la forma de un producto tensorial. \n",
    "\n",
    "- A la izquierda (azul) se tiene un tensor de tamaño digamos $n \\times p \\times s$. \n",
    "\n",
    "- El tensor que está operando en el centro (rosa) es  de tamaño $p \\times r$. Este actúa operando en este caso sobre cada capa del tensor de la izquierda haciendo un producto usual de matrices. \n",
    "\n",
    "- Por lo que el tensor resultante (verde) a la derecha tiene tamaño $n \\times r \\times s$\n",
    "\n"
   ]
  },
  {
   "cell_type": "markdown",
   "metadata": {},
   "source": [
    "![Producto Tensorial](../Imagenes/producto_tensorial.png)\n",
    "\n",
    "Fuente: Alvaro Montenegro"
   ]
  },
  {
   "cell_type": "markdown",
   "metadata": {},
   "source": [
    "## <span style=\"color:#4361EE\">Explicación del producto</span>"
   ]
  },
  {
   "cell_type": "markdown",
   "metadata": {},
   "source": [
    "La explicación del proceso es la siguiente:\n",
    "\n",
    "Cada capa frontal del tensor azul es multiplica por el tensor rosa y el resultado es colocando como una capa frontal en el tensor resultante (verde).\n",
    "\n",
    "Cada multiplicación es entre dos matrices (azul * rosa) y el resultado es una matriz (verde).\n",
    "\n",
    "Cada multiplicación de matrices se hace por la fórmula fila (matriz azul) * columna (matriz rosa)\n",
    "\n",
    "Vamos por ejemplo a suponer que una capa roja es $ azul  = \\begin{pmatrix} 1 & 2 & 1\\\\ 3 & 4 & 1 \\\\ 4 & 5  & 0\\\\ \\end{pmatrix}$, $rosa = \\begin{pmatrix} 5 & 10\\\\ 20 & 30 \\\\ 4 & 1\\end{pmatrix}$\n",
    "\n",
    "Entonces se tiene que \n",
    "\n",
    "$$\n",
    "azul \\times rosa = \\begin{pmatrix} 1 & 2 & 1\\\\ 3 & 4 & 1 \\\\ 4 & 5 & 0\\\\ \\end{pmatrix} \\times \\begin{pmatrix} 5 & 10\\\\ 20 & 30\\\\ 4 & 1\\end{pmatrix} = \\begin{pmatrix} 1\\times 5 + 2 \\times 20 +  1 \\times 4 & 1 \\times 10 + 2\\times 30 + 1\\times 1\n",
    "\\\\ 3\\times 5 + 4 \\times 20 + 1 \\times 4 & 3 \\times 10 + 4 \\times 30 + 1 \\times 1\n",
    "\\\\ 4\\times 5 + 5 \\times 20 + 0 \\times 4 & 4 \\times 10 + 5 \\times 30 + 0 \\times 1\\end{pmatrix} = turquesa\n",
    "$$"
   ]
  },
  {
   "cell_type": "markdown",
   "metadata": {},
   "source": [
    "## <span style=\"color:#4361EE\">Imágenes a color</span>"
   ]
  },
  {
   "cell_type": "markdown",
   "metadata": {},
   "source": [
    "De manera clásica una imagen a color está compuesta de tres colores primarios: rojo (*Red*), verde (*Green*) y azul (*Blue*). Para generar una imagen a color un computador maneja tres planos de color, los cuales son controlados desde tensores tridimensionales. Considere el siguiente ejemplo."
   ]
  },
  {
   "cell_type": "markdown",
   "metadata": {},
   "source": [
    "\n",
    "![RGB](../Imagenes/zeus_2.png)\n",
    "\n",
    "\n",
    "Fuente: Alvaro Montenegro"
   ]
  },
  {
   "cell_type": "markdown",
   "metadata": {},
   "source": [
    "Cada pixel (*punto*) de la imagen es representado por una valor numérico en el rango de 0 a 255, o en rango de valores reales entre cero y 1."
   ]
  },
  {
   "cell_type": "markdown",
   "metadata": {},
   "source": [
    "## <span style=\"color:#4361EE\">Construcción aleatoria de una imagen</span>"
   ]
  },
  {
   "cell_type": "markdown",
   "metadata": {},
   "source": [
    "Considere el siguiente código Python."
   ]
  },
  {
   "cell_type": "code",
   "execution_count": null,
   "metadata": {},
   "outputs": [],
   "source": [
    "import numpy as np\n",
    "I=np.random.randint(0,255,size=(3,10,10))\n",
    "print(I)"
   ]
  },
  {
   "cell_type": "markdown",
   "metadata": {},
   "source": [
    "Este tensor representa una imagen de tamaño $10 \\times 10$. Son tres planos de color $10 \\times 10$.\n",
    "\n",
    "Observe que la primera dimensión corresponde a cada plano de color y las restantes dos dimensiones a las intensidades de cada color para cada punto.\n",
    "\n",
    "Renderizar (dibujar en este caso), nos lleva a la siguiente imagen."
   ]
  },
  {
   "cell_type": "code",
   "execution_count": null,
   "metadata": {},
   "outputs": [],
   "source": [
    "# conda install -c conda-forge matplotlib\n",
    "import matplotlib.pyplot as plt\n",
    "\n",
    "plt.imshow(I.T)\n",
    "plt.show()\n"
   ]
  },
  {
   "cell_type": "markdown",
   "metadata": {},
   "source": [
    "Observe que "
   ]
  },
  {
   "cell_type": "code",
   "execution_count": null,
   "metadata": {},
   "outputs": [],
   "source": [
    "(I.T).shape"
   ]
  },
  {
   "cell_type": "markdown",
   "metadata": {},
   "source": [
    "Porque Python maneja las imágenes en este formato: Fila, columna y plano de color."
   ]
  },
  {
   "cell_type": "markdown",
   "metadata": {},
   "source": [
    "## <span style=\"color:#4361EE\">Imagen real</span>"
   ]
  },
  {
   "cell_type": "markdown",
   "metadata": {},
   "source": [
    "Vamos a trabajar ahora con una imagen real."
   ]
  },
  {
   "cell_type": "code",
   "execution_count": null,
   "metadata": {},
   "outputs": [],
   "source": [
    "import numpy as np\n",
    "import matplotlib.pyplot as plt\n",
    "\n",
    "# conda install -c anaconda scikit-image\n",
    "from skimage import data\n",
    "from skimage.color import rgb2gray\n",
    "\n",
    "original = data.astronaut()\n",
    "grayscale = rgb2gray(original)\n",
    "\n",
    "fig, axes = plt.subplots(1, 2, figsize=(8, 4))\n",
    "ax = axes.ravel()\n",
    "\n",
    "ax[0].imshow(original)\n",
    "ax[0].set_title(\"Original\")\n",
    "ax[1].imshow(grayscale, cmap=plt.cm.gray)\n",
    "ax[1].set_title(\"Grayscale\")\n",
    "\n",
    "fig.tight_layout()\n",
    "plt.show()"
   ]
  },
  {
   "cell_type": "code",
   "execution_count": null,
   "metadata": {},
   "outputs": [],
   "source": [
    "Idata=np.array(grayscale)\n",
    "print(\"\\nLa imagen tiene forma: \",Idata.shape,\"\\n\")\n",
    "print(Idata)"
   ]
  },
  {
   "cell_type": "markdown",
   "metadata": {},
   "source": [
    "## <span style=\"color:#4361EE\">Planos de color</span>"
   ]
  },
  {
   "cell_type": "code",
   "execution_count": null,
   "metadata": {},
   "outputs": [],
   "source": [
    "Idata = np.array(original)\n",
    "print(\"\\nLa imagen tiene forma: \",Idata.shape,\"\\n\")\n",
    "print(\"\\nEscala de Rojos:\\n\\n\",Idata[:511,:511,0],\"\\n\")\n",
    "print(\"\\nEscala de Verdes:\\n\\n\",Idata[:511,:511,1],\"\\n\")\n",
    "print(\"\\nEscala de Azules:\\n\\n\",Idata[:511,:511,2],\"\\n\")"
   ]
  },
  {
   "cell_type": "code",
   "execution_count": null,
   "metadata": {},
   "outputs": [],
   "source": [
    "fig, (ax1, ax2,ax3) = plt.subplots(1, 3,figsize=(15,15))\n",
    "\n",
    "ax1.imshow(Idata[:,:,0],cmap=\"Reds\")\n",
    "ax1.set_xlabel('Red')\n",
    "ax2.imshow(Idata[:,:,1],cmap=\"Greens\")\n",
    "ax2.set_xlabel('Green')\n",
    "ax3.imshow(Idata[:,:,2],cmap=\"Blues\")\n",
    "ax3.set_xlabel('Blue')\n",
    "plt.show()"
   ]
  },
  {
   "cell_type": "markdown",
   "metadata": {},
   "source": [
    "## <span style=\"color:#4361EE\">Manipulación  de imágenes</span>"
   ]
  },
  {
   "cell_type": "markdown",
   "metadata": {},
   "source": [
    "### <span style=\"color:#4CC9F0\">Intercambia dos planos de color</span>"
   ]
  },
  {
   "cell_type": "code",
   "execution_count": null,
   "metadata": {},
   "outputs": [],
   "source": [
    "import numpy as np\n",
    "import matplotlib.pyplot as plt\n",
    "\n",
    "from skimage import data\n",
    "from skimage.color import rgb2gray\n",
    "\n",
    "original = data.astronaut()\n",
    "\n",
    "Idata_m = Idata\n",
    "Idata_m[:,:,0], Idata_m[:,:,2] = Idata_m[:,:,2], Idata_m[:,:,0]\n",
    "\n",
    "fig, axes = plt.subplots(1, 2, figsize=(8, 4))\n",
    "ax = axes.ravel()\n",
    "\n",
    "ax[0].imshow(original)\n",
    "ax[0].set_title(\"Original\")\n",
    "ax[1].imshow(Idata_m)\n",
    "ax[1].set_title(\"Modificada\")\n",
    "\n",
    "fig.tight_layout()\n",
    "plt.show()"
   ]
  },
  {
   "cell_type": "markdown",
   "metadata": {},
   "source": [
    "### <span style=\"color:#4CC9F0\">Suma una constante a la imagen</span>"
   ]
  },
  {
   "cell_type": "code",
   "execution_count": null,
   "metadata": {},
   "outputs": [],
   "source": [
    "fig, axes = plt.subplots(1, 2, figsize=(8, 4))\n",
    "ax = axes.ravel()\n",
    "\n",
    "k = 10\n",
    "ax[0].imshow(original)\n",
    "ax[0].set_title(\"Original\")\n",
    "ax[1].imshow(original + k)\n",
    "ax[1].set_title(\"Modificada\")\n",
    "\n",
    "fig.tight_layout()\n",
    "plt.show()"
   ]
  },
  {
   "cell_type": "code",
   "execution_count": null,
   "metadata": {},
   "outputs": [],
   "source": [
    "fig, axes = plt.subplots(1, 2, figsize=(8, 4))\n",
    "ax = axes.ravel()\n",
    "\n",
    "k = 2\n",
    "ax[0].imshow(original)\n",
    "ax[0].set_title(\"Original\")\n",
    "ax[1].imshow(original //k)\n",
    "ax[1].set_title(\"Modificada\")\n",
    "\n",
    "fig.tight_layout()\n",
    "plt.show()"
   ]
  },
  {
   "cell_type": "code",
   "execution_count": null,
   "metadata": {},
   "outputs": [],
   "source": [
    "Idata_m = Idata\n",
    "\n",
    "Idata_m[:,:,0 ]=0\n",
    "\n",
    "fig, axes = plt.subplots(1, 2, figsize=(8, 4))\n",
    "ax = axes.ravel()\n",
    "\n",
    "ax[0].imshow(original)\n",
    "ax[0].set_title(\"Original\")\n",
    "ax[1].imshow(Idata_m)\n",
    "ax[1].set_title(\"Modificada\")\n",
    "\n",
    "fig.tight_layout()\n",
    "plt.show()"
   ]
  },
  {
   "cell_type": "code",
   "execution_count": null,
   "metadata": {},
   "outputs": [],
   "source": [
    "Idata"
   ]
  },
  {
   "cell_type": "code",
   "execution_count": null,
   "metadata": {},
   "outputs": [],
   "source": [
    "fig, axes = plt.subplots(1, 2, figsize=(8, 4))\n",
    "ax = axes.ravel()\n",
    "ax[0].imshow(original)\n",
    "ax[0].set_title(\"Original\")\n",
    "ax[1].imshow(255 - Idata)\n",
    "ax[1].set_title(\"Modificada\")\n",
    "\n",
    "fig.tight_layout()\n",
    "plt.show()"
   ]
  },
  {
   "cell_type": "markdown",
   "metadata": {},
   "source": [
    "## <span style=\"color:#4361EE\">Colocar dos imagenes en un tensor</span>"
   ]
  },
  {
   "cell_type": "markdown",
   "metadata": {},
   "source": [
    "Esta es una forma para organizar conjuntos de imágenes en un único tensor"
   ]
  },
  {
   "cell_type": "code",
   "execution_count": null,
   "metadata": {},
   "outputs": [],
   "source": [
    "original= np.expand_dims(original,axis=0)"
   ]
  },
  {
   "cell_type": "code",
   "execution_count": null,
   "metadata": {},
   "outputs": [],
   "source": [
    "original.shape"
   ]
  },
  {
   "cell_type": "code",
   "execution_count": null,
   "metadata": {},
   "outputs": [],
   "source": [
    "Idata_m= np.expand_dims(Idata_m,axis=0)"
   ]
  },
  {
   "cell_type": "code",
   "execution_count": null,
   "metadata": {},
   "outputs": [],
   "source": [
    "images = np.concatenate((original, Idata_m),axis=0)\n"
   ]
  },
  {
   "cell_type": "code",
   "execution_count": null,
   "metadata": {},
   "outputs": [],
   "source": [
    "images.shape"
   ]
  },
  {
   "cell_type": "code",
   "execution_count": null,
   "metadata": {},
   "outputs": [],
   "source": [
    "fig, axes = plt.subplots(1, 2, figsize=(8, 4))\n",
    "ax = axes.ravel()\n",
    "ax[0].imshow(images[0])\n",
    "ax[0].set_title(\"Original\")\n",
    "ax[1].imshow(images[1])\n",
    "ax[1].set_title(\"Modificada\")\n",
    "\n",
    "fig.tight_layout()\n",
    "plt.show()"
   ]
  },
  {
   "cell_type": "markdown",
   "metadata": {},
   "source": [
    "[Regresar al inicio](#Contenido)"
   ]
  },
  {
   "cell_type": "markdown",
   "metadata": {},
   "source": [
    "## <span style=\"color:#4361EE\">Trasformaciones afines</span>"
   ]
  },
  {
   "cell_type": "markdown",
   "metadata": {},
   "source": [
    "En este ejemplo usaremos la librería OpenCV.\n",
    "\n",
    "Esta es la imagen original tomada de [omes-va.com](https://omes-va.com/trasladar-rotar-escalar-recortar-una-imagen-opencv/). Código tomado del mismo sitio."
   ]
  },
  {
   "cell_type": "code",
   "execution_count": 1,
   "metadata": {},
   "outputs": [
    {
     "ename": "ModuleNotFoundError",
     "evalue": "No module named 'cv2'",
     "output_type": "error",
     "traceback": [
      "\u001b[0;31m---------------------------------------------------------------------------\u001b[0m",
      "\u001b[0;31mModuleNotFoundError\u001b[0m                       Traceback (most recent call last)",
      "Input \u001b[0;32mIn [1]\u001b[0m, in \u001b[0;36m<module>\u001b[0;34m\u001b[0m\n\u001b[1;32m      1\u001b[0m \u001b[38;5;28;01mimport\u001b[39;00m \u001b[38;5;21;01mnumpy\u001b[39;00m \u001b[38;5;28;01mas\u001b[39;00m \u001b[38;5;21;01mnp\u001b[39;00m\n\u001b[0;32m----> 2\u001b[0m \u001b[38;5;28;01mimport\u001b[39;00m \u001b[38;5;21;01mcv2\u001b[39;00m\n\u001b[1;32m      3\u001b[0m image \u001b[38;5;241m=\u001b[39m cv2\u001b[38;5;241m.\u001b[39mimread(\u001b[38;5;124m'\u001b[39m\u001b[38;5;124m../Imagenes/ave.jpeg\u001b[39m\u001b[38;5;124m'\u001b[39m)\n\u001b[1;32m      4\u001b[0m cv2\u001b[38;5;241m.\u001b[39mimshow(\u001b[38;5;124m'\u001b[39m\u001b[38;5;124mImagen de entrada\u001b[39m\u001b[38;5;124m'\u001b[39m,image)\n",
      "\u001b[0;31mModuleNotFoundError\u001b[0m: No module named 'cv2'"
     ]
    }
   ],
   "source": [
    "import numpy as np\n",
    "import cv2\n",
    "image = cv2.imread('../Imagenes/ave.jpeg')\n",
    "cv2.imshow('Imagen de entrada',image)\n",
    "cv2.waitKey(0)\n",
    "cv2.destroyAllWindows()\n",
    "#Voy aquí"
   ]
  },
  {
   "cell_type": "markdown",
   "metadata": {},
   "source": [
    "## <span style=\"color:#4361EE\">Translación</span>"
   ]
  },
  {
   "cell_type": "markdown",
   "metadata": {},
   "source": [
    "$$\n",
    "M =\\begin{pmatrix} 1 & 0 & Tx\\\\\n",
    "0 & 1 & Ty\n",
    "\\end{pmatrix}\n",
    "$$\n",
    "\n",
    "- Tx, representa el desplazamiento en x.\n",
    "\n",
    "- Ty, representa el desplazamiento en y.\n",
    "\n"
   ]
  },
  {
   "cell_type": "code",
   "execution_count": null,
   "metadata": {},
   "outputs": [],
   "source": [
    "# Translación\n",
    "ancho = image.shape[1] #columnas\n",
    "alto = image.shape[0] # filas\n",
    "# Traslación\n",
    "M = np.float32([[1,0,100],[0,1,150]])\n",
    "imageOut = cv2.warpAffine(image,M,(ancho,alto))\n",
    "cv2.imshow('Imagen de entrada',image)\n",
    "cv2.imshow('Imagen de salida',imageOut)\n",
    "cv2.waitKey(0)\n",
    "cv2.destroyAllWindows()"
   ]
  },
  {
   "cell_type": "markdown",
   "metadata": {},
   "source": [
    "## <span style=\"color:#4361EE\">Rotación</span>"
   ]
  },
  {
   "cell_type": "markdown",
   "metadata": {},
   "source": [
    "$$\n",
    "M =\\begin{pmatrix} \\cos \\theta & -\\sin \\theta & 0\\\\\n",
    "\\cos \\theta & \\sin \\theta & 1\\\\\n",
    "0 & 0  & 1\n",
    "\\end{pmatrix}\n",
    "$$\n",
    "\n",
    "- $\\theta$ representa el ángulo de rotación. En este ejemplo $\\theta = \\pi/4$ 0 lo que es lo mismo $45^o$."
   ]
  },
  {
   "cell_type": "code",
   "execution_count": null,
   "metadata": {},
   "outputs": [],
   "source": [
    "# rotación\n",
    "ancho = image.shape[1] #columnas\n",
    "alto = image.shape[0] # filas\n",
    "\n",
    "M = cv2.getRotationMatrix2D((ancho//2,alto//2),15,1)\n",
    "imageOut = cv2.warpAffine(image,M,(ancho,alto))\n",
    "cv2.imshow('Imagen de entrada',image)\n",
    "cv2.imshow('Imagen de salida',imageOut)\n",
    "cv2.waitKey(0)\n",
    "cv2.destroyAllWindows()\n"
   ]
  },
  {
   "cell_type": "code",
   "execution_count": null,
   "metadata": {},
   "outputs": [],
   "source": [
    "image.shape"
   ]
  }
 ],
 "metadata": {
  "kernelspec": {
   "display_name": "Python 3 (ipykernel)",
   "language": "python",
   "name": "python3"
  },
  "language_info": {
   "codemirror_mode": {
    "name": "ipython",
    "version": 3
   },
   "file_extension": ".py",
   "mimetype": "text/x-python",
   "name": "python",
   "nbconvert_exporter": "python",
   "pygments_lexer": "ipython3",
   "version": "3.8.8"
  },
  "toc-autonumbering": false
 },
 "nbformat": 4,
 "nbformat_minor": 4
}
